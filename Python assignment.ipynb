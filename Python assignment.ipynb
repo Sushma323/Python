{
 "cells": [
  {
   "cell_type": "markdown",
   "id": "5bfdbff1",
   "metadata": {},
   "source": [
    " Simple Message: Store a message in a variable, and then print that message"
   ]
  },
  {
   "cell_type": "code",
   "execution_count": 1,
   "id": "2550425b",
   "metadata": {},
   "outputs": [
    {
     "name": "stdout",
     "output_type": "stream",
     "text": [
      "Hello to Python world\n"
     ]
    }
   ],
   "source": [
    "msg=\"Hello to Python world\"\n",
    "print(msg)"
   ]
  },
  {
   "cell_type": "markdown",
   "id": "8693c224",
   "metadata": {},
   "source": [
    "Store a message in a variable and print that message. Then change the \n",
    " value of your variable to a new message and print the new message"
   ]
  },
  {
   "cell_type": "code",
   "execution_count": 2,
   "id": "5de5764c",
   "metadata": {},
   "outputs": [
    {
     "name": "stdout",
     "output_type": "stream",
     "text": [
      "My name is Sushma\n",
      "I am doing Data science course in Topmentor\n"
     ]
    }
   ],
   "source": [
    "msg1=\"My name is Sushma\"\n",
    "print(msg1)\n",
    "msg1=\"I am doing Data science course in Topmentor\"\n",
    "print(msg1)"
   ]
  },
  {
   "cell_type": "markdown",
   "id": "2dc11337",
   "metadata": {},
   "source": [
    "Store a person’s name in a variable and print a message to that person. \n",
    "Your message should be simple, such as, “Hello Eric, would you like to \n",
    "learn some Python today?”"
   ]
  },
  {
   "cell_type": "code",
   "execution_count": 40,
   "id": "88b10d06",
   "metadata": {},
   "outputs": [
    {
     "name": "stdout",
     "output_type": "stream",
     "text": [
      "Hello Eric, would you like to learn some Python today?\n"
     ]
    }
   ],
   "source": [
    "name=\"Eric\"\n",
    "print('Hello ' + name + \", would you like to learn some Python today?\" )"
   ]
  },
  {
   "cell_type": "markdown",
   "id": "01e346df",
   "metadata": {},
   "source": [
    "Find a quote from a famous person you admire. Print the quote and the \n",
    "name of its author. Your output should look something like the following, \n",
    "including the quotation marks: Albert Einstein once said, “A person who \n",
    "never made a mistake never tried anything new.”"
   ]
  },
  {
   "cell_type": "code",
   "execution_count": 10,
   "id": "f61fc2a1",
   "metadata": {},
   "outputs": [
    {
     "name": "stdout",
     "output_type": "stream",
     "text": [
      "Chanakya once said, \"A person who cannot decide his goal, simply cannot win.\"\n"
     ]
    }
   ],
   "source": [
    "print('Chanakya once said, \"A person who cannot decide his goal, simply cannot win.\"')"
   ]
  },
  {
   "cell_type": "markdown",
   "id": "d7989a80",
   "metadata": {},
   "source": [
    "Repeat Exercise 4, but this time store the famous person’s name in a \n",
    "variable called famous_person. Then compose your message and store it in \n",
    "a new variable called message. Print your message."
   ]
  },
  {
   "cell_type": "code",
   "execution_count": 13,
   "id": "70a756b2",
   "metadata": {},
   "outputs": [
    {
     "name": "stdout",
     "output_type": "stream",
     "text": [
      "Chanakya once said, \"A person who cannot decide his goal, simply cannot win.\"\n"
     ]
    }
   ],
   "source": [
    "famous_person='Chanakya'\n",
    "message=' once said, \"A person who cannot decide his goal, simply cannot win.\"'\n",
    "print(famous_person + message)"
   ]
  },
  {
   "cell_type": "markdown",
   "id": "fb9923e8",
   "metadata": {},
   "source": [
    "Write addition, subtraction, multiplication, and division operations that \n",
    "each result in the number 8. Be sure to enclose your operations in print \n",
    "statements to see the results. You should create four lines that look like \n",
    "this: print (5 + 3)\n",
    "Your output should simply be four lines with the number 8 appearing once \n",
    "on each line "
   ]
  },
  {
   "cell_type": "code",
   "execution_count": 18,
   "id": "db4f98a3",
   "metadata": {},
   "outputs": [
    {
     "name": "stdout",
     "output_type": "stream",
     "text": [
      "8\n",
      "8\n",
      "8\n",
      "8.0\n"
     ]
    }
   ],
   "source": [
    "# To print basic operations\n",
    "print(5+3)\n",
    "print(12-4)\n",
    "print(2*4)\n",
    "print(16/2)"
   ]
  },
  {
   "cell_type": "markdown",
   "id": "ff2c5904",
   "metadata": {},
   "source": [
    "Store your favourite number in a variable. Then, using that variable, create \n",
    "a message that reveals your favourite number. Print that message."
   ]
  },
  {
   "cell_type": "code",
   "execution_count": 25,
   "id": "ba30e0c5",
   "metadata": {},
   "outputs": [
    {
     "name": "stdout",
     "output_type": "stream",
     "text": [
      "Current DateTime: 2022-10-22 12:42:55.929628\n",
      "My favourite number is 8\n"
     ]
    }
   ],
   "source": [
    "# Sushma \n",
    "from datetime import datetime\n",
    "now = datetime.now()\n",
    "print('Current DateTime:', now)\n",
    "# To print the favourite number\n",
    "fav_num=8\n",
    "print('My favourite number is '+ str(fav_num))"
   ]
  },
  {
   "cell_type": "markdown",
   "id": "a252112f",
   "metadata": {},
   "source": [
    "Choose two of the programs you’ve written and add at least one comment \n",
    "to each. If you don’t have anything specific to write because your programs \n",
    "are too simple at this point, just add your name and the current date at the \n",
    "top of each program file. Then write one sentence describing what the \n",
    "program does."
   ]
  },
  {
   "cell_type": "markdown",
   "id": "20d45ef9",
   "metadata": {},
   "source": [
    "Store the names of a few of your friends in a list called names. Print each \n",
    "person’s name by accessing each element in the list, one at a time."
   ]
  },
  {
   "cell_type": "code",
   "execution_count": 28,
   "id": "592987cd",
   "metadata": {},
   "outputs": [
    {
     "name": "stdout",
     "output_type": "stream",
     "text": [
      "Hema\n",
      "Priyanka\n",
      "Durga\n",
      "Mohith\n"
     ]
    }
   ],
   "source": [
    "names=['Hema','Priyanka','Durga','Mohith']\n",
    "print(names[0])\n",
    "print(names[1])\n",
    "print(names[2])\n",
    "print(names[3])"
   ]
  },
  {
   "cell_type": "markdown",
   "id": "6fc22358",
   "metadata": {},
   "source": [
    "Start with the list you used in Exercise 9, but instead of just printing each \n",
    "person’s name, print a message to them. The text of each message should \n",
    "be the same, but each message should be personalized with the person’s\n",
    "name."
   ]
  },
  {
   "cell_type": "code",
   "execution_count": 30,
   "id": "95387429",
   "metadata": {},
   "outputs": [
    {
     "name": "stdout",
     "output_type": "stream",
     "text": [
      "Hema, you are my bestie\n",
      "Priyanka, you are my bestie\n",
      "Durga, you are my bestie\n",
      "Mohith, you are my bestie\n"
     ]
    }
   ],
   "source": [
    "names=['Hema','Priyanka','Durga','Mohith']\n",
    "message=', you are my bestie'\n",
    "print(names[0] + message)\n",
    "print(names[1] + message)\n",
    "print(names[2] + message)\n",
    "print(names[3] + message)"
   ]
  },
  {
   "cell_type": "markdown",
   "id": "d6c8be9b",
   "metadata": {},
   "source": [
    "Think of your favourite mode of transportation, such as a motorcycle or a \n",
    "car, and make a list that stores several examples. Use your list to print a \n",
    "series of statements about these items, such as “I would like to own a \n",
    "Honda motorcycle.”"
   ]
  },
  {
   "cell_type": "code",
   "execution_count": 37,
   "id": "7dc02bc7",
   "metadata": {},
   "outputs": [
    {
     "name": "stdout",
     "output_type": "stream",
     "text": [
      "I would like to own a Passion pro Bike.\n",
      "I would like to own a Honda scooty.\n",
      "I would like to own a Jaguar car.\n"
     ]
    }
   ],
   "source": [
    "vehicles=['Passion pro Bike','Honda scooty','Jaguar car']\n",
    "stmt='I would like to own a '\n",
    "print(stmt + vehicles[0] + \".\")\n",
    "print(stmt + vehicles[1] + \".\")\n",
    "print(stmt + vehicles[2] + \".\")"
   ]
  },
  {
   "cell_type": "code",
   "execution_count": null,
   "id": "ae2861d7",
   "metadata": {},
   "outputs": [],
   "source": []
  }
 ],
 "metadata": {
  "kernelspec": {
   "display_name": "Python 3 (ipykernel)",
   "language": "python",
   "name": "python3"
  },
  "language_info": {
   "codemirror_mode": {
    "name": "ipython",
    "version": 3
   },
   "file_extension": ".py",
   "mimetype": "text/x-python",
   "name": "python",
   "nbconvert_exporter": "python",
   "pygments_lexer": "ipython3",
   "version": "3.9.12"
  }
 },
 "nbformat": 4,
 "nbformat_minor": 5
}
